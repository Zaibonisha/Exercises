{
 "cells": [
  {
   "cell_type": "markdown",
   "metadata": {},
   "source": [
    "# Use the Shirt Class\n",
    "\n",
    "You've seen what a class looks like and how to instantiate an object. Now it's your turn to write code that insantiates a shirt object.\n",
    "\n",
    "# Explanation of the Code\n",
    "This Jupyter notebook is inside of a folder called 1.OOP_syntax_shirt_practice. You can see the folder if you click on the \"Jupyter\" logo above the notebook. Inside the folder are three files:\n",
    "- shirt_exercise.ipynb, which is the file you are currently looking at\n",
    "- answer.py containing answers to the exercise\n",
    "- tests.py, tests for checking your code - you can run these tests using the last code cell at the bottom of this notebook\n",
    "\n",
    "# Your Task\n",
    "The shirt_exercise.ipynb file, which you are currently looking at if you are reading this, has an exercise to help guide you through coding with an object in Python.\n",
    "\n",
    "Fill out the TODOs in each section of the Jupyter notebook. You can find a solution in the answer.py file.\n",
    "\n",
    "First, run this code cell below to load the Shirt class."
   ]
  },
  {
   "cell_type": "code",
   "execution_count": null,
   "metadata": {},
   "outputs": [],
   "source": []
  },
  {
   "cell_type": "code",
   "execution_count": null,
   "metadata": {},
   "outputs": [],
   "source": [
    "class Shirt:\n",
    "\n",
    "    def __init__(self, shirt_color, shirt_size, shirt_style, shirt_price):\n",
    "        self.color = shirt_color\n",
    "        self.size = shirt_size\n",
    "        self.style = shirt_style\n",
    "        self.price = shirt_price\n",
    "    \n",
    "    def change_price(self, new_price):\n",
    "    \n",
    "        self.price = new_price\n",
    "        \n",
    "    def discount(self, discount):\n",
    "\n",
    "        return self.price * (1 - discount)"
   ]
  },
  {
   "cell_type": "code",
   "execution_count": 4,
   "metadata": {},
   "outputs": [
    {
     "name": "stdout",
     "output_type": "stream",
     "text": [
      "Color: red\n",
      "Size: S\n",
      "Style: long-sleeve\n",
      "Price: 25\n",
      "Updated Price after 10% discount: 25\n"
     ]
    }
   ],
   "source": [
    "### TODO:\n",
    "#    - insantiate a shirt object with the following characteristics:\n",
    "#        - color red, size S, style long-sleeve, and price 25\n",
    "#    - store the object in a variable called shirt_one\n",
    "\n",
    "class Shirt:\n",
    "\n",
    "    def __init__(self, shirt_color, shirt_size, shirt_style, shirt_price):\n",
    "        self.color = shirt_color\n",
    "        self.size = shirt_size\n",
    "        self.style = shirt_style\n",
    "        self.price = shirt_price\n",
    "    \n",
    "    def change_price(self, new_price):\n",
    "        self.price = new_price\n",
    "        \n",
    "    def discount(self, discount):\n",
    "        return self.price * (1 - discount)\n",
    "\n",
    "# Instantiate a Shirt object with the specified characteristics\n",
    "shirt_one = Shirt(shirt_color='red', shirt_size='S', shirt_style='long-sleeve', shirt_price=25)\n",
    "\n",
    "# Displaying the initial attributes of the shirt_one object\n",
    "print(\"Color:\", shirt_one.color)\n",
    "print(\"Size:\", shirt_one.size)\n",
    "print(\"Style:\", shirt_one.style)\n",
    "print(\"Price:\", shirt_one.price)\n",
    "\n",
    "# Applying a discount of 0.1 (10%)\n",
    "shirt_one.discount(0.1)\n",
    "\n",
    "# Displaying the updated price after applying the discount\n",
    "print(\"Updated Price after 10% discount:\", shirt_one.price)\n",
    "\n",
    "###"
   ]
  },
  {
   "cell_type": "code",
   "execution_count": 6,
   "metadata": {},
   "outputs": [
    {
     "name": "stdout",
     "output_type": "stream",
     "text": [
      "Initial Price: 25\n",
      "Updated Price after change_price method: 10\n",
      "Price after 12.0% discount: 8.8\n"
     ]
    }
   ],
   "source": [
    "\n",
    "# Print the initial price of the shirt using the price attribute\n",
    "print(\"Initial Price:\", shirt_one.price)\n",
    "\n",
    "# Use the change_price method to change the price of the shirt to 10\n",
    "shirt_one.change_price(10)\n",
    "\n",
    "# Print the updated price of the shirt using the price attribute\n",
    "print(\"Updated Price after change_price method:\", shirt_one.price)\n",
    "\n",
    "# Use the discount method to print the price of the shirt with a 12% discount\n",
    "discount_percentage = 0.12\n",
    "discounted_price = shirt_one.discount(discount_percentage)\n",
    "print(f\"Price after {discount_percentage*100}% discount:\", discounted_price)\n",
    "\n",
    "###"
   ]
  },
  {
   "cell_type": "code",
   "execution_count": 11,
   "metadata": {},
   "outputs": [
    {
     "name": "stdout",
     "output_type": "stream",
     "text": [
      "Color: orange\n",
      "Size: L\n",
      "Style: short-sleeve\n",
      "Price: 10\n",
      "Updated Price after 10% discount: 10\n"
     ]
    }
   ],
   "source": [
    "### TODO:\n",
    "#\n",
    "#    - instantiate another object with the following characteristics:\n",
    "# .       - color orange, size L, style short-sleeve, and price 10\n",
    "#    - store the object in a variable called shirt_two\n",
    "#\n",
    "class Shirt:\n",
    "\n",
    "    def __init__(self, shirt_color, shirt_size, shirt_style, shirt_price):\n",
    "        self.color = shirt_color\n",
    "        self.size = shirt_size\n",
    "        self.style = shirt_style\n",
    "        self.price = shirt_price\n",
    "    \n",
    "    def change_price(self, new_price):\n",
    "        self.price = new_price\n",
    "        \n",
    "    def discount(self, discount):\n",
    "        return self.price * (1 - discount)\n",
    "\n",
    "# Instantiate a Shirt object with the specified characteristics\n",
    "shirt_two = Shirt(shirt_color='orange', shirt_size='L', shirt_style='short-sleeve', shirt_price=10)\n",
    "\n",
    "# Displaying the initial attributes of the shirt_one object\n",
    "print(\"Color:\", shirt_two.color)\n",
    "print(\"Size:\", shirt_two.size)\n",
    "print(\"Style:\", shirt_two.style)\n",
    "print(\"Price:\", shirt_two.price)\n",
    "\n",
    "# Applying a discount of 0.1 (10%)\n",
    "shirt_two.discount(0.1)\n",
    "\n",
    "# Displaying the updated price after applying the discount\n",
    "print(\"Updated Price after 10% discount:\", shirt_two.price)\n",
    "\n",
    "\n",
    "###"
   ]
  },
  {
   "cell_type": "code",
   "execution_count": 12,
   "metadata": {},
   "outputs": [
    {
     "name": "stdout",
     "output_type": "stream",
     "text": [
      "Color: orange\n",
      "Size: L\n",
      "Style: short-sleeve\n",
      "Price: 10\n",
      "Total Cost of shirt_one and shirt_two: 35\n"
     ]
    }
   ],
   "source": [
    "### TODO:\n",
    "#\n",
    "#    - calculate the total cost of shirt_one and shirt_two\n",
    "#    - store the results in a variable called total\n",
    "#    \n",
    "# Instantiate another Shirt object with the specified characteristics\n",
    "shirt_two = Shirt(shirt_color='orange', shirt_size='L', shirt_style='short-sleeve', shirt_price=10)\n",
    "\n",
    "# Displaying the initial attributes of the shirt_two object\n",
    "print(\"Color:\", shirt_two.color)\n",
    "print(\"Size:\", shirt_two.size)\n",
    "print(\"Style:\", shirt_two.style)\n",
    "print(\"Price:\", shirt_two.price)\n",
    "\n",
    "# Calculate the total cost of shirt_one and shirt_two\n",
    "total = shirt_one.price + shirt_two.price\n",
    "\n",
    "# Displaying the total cost\n",
    "print(\"Total Cost of shirt_one and shirt_two:\", total)\n",
    "\n",
    "###"
   ]
  },
  {
   "cell_type": "code",
   "execution_count": null,
   "metadata": {},
   "outputs": [],
   "source": [
    "### TODO:\n",
    "#\n",
    "#    - use the shirt discount method to calculate the total cost if\n",
    "#       shirt_one has a discount of 14% and shirt_two has a discount\n",
    "#       of 6%\n",
    "#    - store the results in a variable called total_discount\n",
    "# Instantiate another Shirt object with the specified characteristics\n",
    "shirt_two = Shirt(shirt_color='orange', shirt_size='L', shirt_style='short-sleeve', shirt_price=10)\n",
    "\n",
    "# Displaying the initial attributes of the shirt_two object\n",
    "print(\"Color:\", shirt_two.color)\n",
    "print(\"Size:\", shirt_two.size)\n",
    "print(\"Style:\", shirt_two.style)\n",
    "print(\"Price:\", shirt_two.price)\n",
    "\n",
    "# Applying a discount of 14% to shirt_one and 6% to shirt_two\n",
    "discount_rate_shirt_one = 0.14\n",
    "discount_rate_shirt_two = 0.06\n",
    "\n",
    "shirt_one_discounted_price = shirt_one.discount(discount_rate_shirt_one)\n",
    "shirt_two_discounted_price = shirt_two.discount(discount_rate_shirt_two)\n",
    "\n",
    "# Calculate the total discounted cost\n",
    "total_discount = shirt_one_discounted_price + shirt_two_discounted_price\n",
    "\n",
    "# Displaying the total discounted cost\n",
    "print(\"Total Discounted Cost with individual discounts:\", total_discount)\n",
    "\n",
    "###"
   ]
  },
  {
   "cell_type": "markdown",
   "metadata": {},
   "source": [
    "# Test your Code\n",
    "\n",
    "\n",
    "The following code cell tests your code. \n",
    "\n",
    "There is a file called tests.py containing a function called run_tests(). The run_tests() function executes a handful of assert statements to check your work. You can see this file if you go to the Jupyter Notebook menu and click on \"File->Open\" and then open the tests.py file.\n",
    "\n",
    "Execute the next code cell. The code will produce an error if your answers in this exercise are not what was expected. Keep working on your code until all tests are passing.\n",
    "\n",
    "If you run the code cell and there is no output, then you passed all the tests!\n",
    "\n",
    "As mentioned previously, there's also a file with a solution. To find the solution, click on the Jupyter logo at the top of the workspace, and then enter the folder titled 1.OOP_syntax_shirt_practice"
   ]
  },
  {
   "cell_type": "code",
   "execution_count": null,
   "metadata": {},
   "outputs": [],
   "source": [
    "# Unit tests to check your solution\n",
    "from tests import run_tests\n",
    "\n",
    "run_tests(shirt_one, shirt_two, total, total_discount)"
   ]
  }
 ],
 "metadata": {
  "kernelspec": {
   "display_name": "Python 3",
   "language": "python",
   "name": "python3"
  },
  "language_info": {
   "codemirror_mode": {
    "name": "ipython",
    "version": 3
   },
   "file_extension": ".py",
   "mimetype": "text/x-python",
   "name": "python",
   "nbconvert_exporter": "python",
   "pygments_lexer": "ipython3",
   "version": "3.6.3"
  }
 },
 "nbformat": 4,
 "nbformat_minor": 2
}
